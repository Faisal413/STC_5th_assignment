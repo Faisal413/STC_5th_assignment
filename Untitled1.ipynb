{
 "cells": [
  {
   "cell_type": "markdown",
   "id": "256559c8",
   "metadata": {},
   "source": [
    "# Part 1: Creating Arrays"
   ]
  },
  {
   "cell_type": "markdown",
   "id": "05b4d085",
   "metadata": {},
   "source": [
    "1) Import the NumPy package under the name np"
   ]
  },
  {
   "cell_type": "code",
   "execution_count": 1,
   "id": "6eec4b87",
   "metadata": {},
   "outputs": [],
   "source": [
    "import numpy as np"
   ]
  },
  {
   "cell_type": "markdown",
   "id": "f5b35f3b",
   "metadata": {},
   "source": [
    "\n",
    "2) Create and print one-dimensional NumPy array, a, from the following list; [1,2,3,4,5,6,7,8,9]"
   ]
  },
  {
   "cell_type": "code",
   "execution_count": 2,
   "id": "29abbeb3",
   "metadata": {},
   "outputs": [
    {
     "name": "stdout",
     "output_type": "stream",
     "text": [
      "[1 2 3 4 5 6 7 8 9]\n"
     ]
    }
   ],
   "source": [
    "a = np.array([1,2,3,4,5,6,7,8,9])\n",
    "print(a)"
   ]
  },
  {
   "cell_type": "markdown",
   "id": "16822521",
   "metadata": {},
   "source": [
    "3) Print the shape of a to confirm that it’s (9, )"
   ]
  },
  {
   "cell_type": "code",
   "execution_count": 3,
   "id": "5ff07833",
   "metadata": {},
   "outputs": [
    {
     "name": "stdout",
     "output_type": "stream",
     "text": [
      "(9,)\n"
     ]
    }
   ],
   "source": [
    "\n",
    "print(a.shape)"
   ]
  },
  {
   "cell_type": "markdown",
   "id": "0b7b1212",
   "metadata": {},
   "source": [
    "4) Print the data type of NumPy array a"
   ]
  },
  {
   "cell_type": "code",
   "execution_count": 4,
   "id": "50906129",
   "metadata": {},
   "outputs": [
    {
     "name": "stdout",
     "output_type": "stream",
     "text": [
      "int32\n"
     ]
    }
   ],
   "source": [
    "\n",
    "print(a.dtype)"
   ]
  },
  {
   "cell_type": "markdown",
   "id": "27bf1ae1",
   "metadata": {},
   "source": [
    "\n",
    "5) Create and print a one-dimensional NumPy array, b, of data type float, from the following list; [1,2,3,4,5,6,7,8,9,10,11,12]"
   ]
  },
  {
   "cell_type": "code",
   "execution_count": 5,
   "id": "05178c86",
   "metadata": {},
   "outputs": [
    {
     "name": "stdout",
     "output_type": "stream",
     "text": [
      "[ 1.  2.  3.  4.  5.  6.  7.  8.  9. 10. 11. 12.]\n"
     ]
    }
   ],
   "source": [
    "b = np.array([1,2,3,4,5,6,7,8,9,10,11,12], dtype = float)\n",
    "print(b)"
   ]
  },
  {
   "cell_type": "markdown",
   "id": "bcdadb37",
   "metadata": {},
   "source": [
    "6) Print the data type of NumPy array b"
   ]
  },
  {
   "cell_type": "code",
   "execution_count": 6,
   "id": "bfaafb82",
   "metadata": {},
   "outputs": [
    {
     "name": "stdout",
     "output_type": "stream",
     "text": [
      "float64\n"
     ]
    }
   ],
   "source": [
    "\n",
    "print(b.dtype)"
   ]
  },
  {
   "cell_type": "markdown",
   "id": "4bb5c4e7",
   "metadata": {},
   "source": [
    "7) Create and print a row vector, row_vector, of shape (1, 4), from the following list; [1,2,3,4]"
   ]
  },
  {
   "cell_type": "code",
   "execution_count": 7,
   "id": "0926bef4",
   "metadata": {},
   "outputs": [
    {
     "name": "stdout",
     "output_type": "stream",
     "text": [
      "[[1 2 3 4]]\n"
     ]
    }
   ],
   "source": [
    "row_vector = np.array([[1, 2, 3, 4]])\n",
    "print(row_vector)"
   ]
  },
  {
   "cell_type": "markdown",
   "id": "517fd9cc",
   "metadata": {},
   "source": [
    "8) Create and print a column vector, called column_vector, of shape (4, 1), from the following list; [1,2,3,4]"
   ]
  },
  {
   "cell_type": "code",
   "execution_count": 8,
   "id": "aa3e207f",
   "metadata": {},
   "outputs": [
    {
     "name": "stdout",
     "output_type": "stream",
     "text": [
      "[[1]\n",
      " [2]\n",
      " [3]\n",
      " [4]]\n"
     ]
    }
   ],
   "source": [
    "column_vector = np.array([[1], [2], [3], [4]])\n",
    "print(column_vector)\n"
   ]
  },
  {
   "cell_type": "markdown",
   "id": "d83ac925",
   "metadata": {},
   "source": [
    "9) Create and print array c by reshaping array a into a two-dimensional NumPy array of shape (3,3)"
   ]
  },
  {
   "cell_type": "code",
   "execution_count": 9,
   "id": "c4213c02",
   "metadata": {},
   "outputs": [
    {
     "name": "stdout",
     "output_type": "stream",
     "text": [
      "[[1 2 3]\n",
      " [4 5 6]\n",
      " [7 8 9]]\n"
     ]
    }
   ],
   "source": [
    "c = a.reshape(3,3)\n",
    "print(c)"
   ]
  },
  {
   "cell_type": "markdown",
   "id": "4dfeee5e",
   "metadata": {},
   "source": [
    "10) Create and print array d by reshaping array b into a three-dimensional NumPy array of shape (2,2,3)"
   ]
  },
  {
   "cell_type": "code",
   "execution_count": 10,
   "id": "92616cbf",
   "metadata": {},
   "outputs": [
    {
     "name": "stdout",
     "output_type": "stream",
     "text": [
      "[[[ 1.  2.  3.]\n",
      "  [ 4.  5.  6.]]\n",
      "\n",
      " [[ 7.  8.  9.]\n",
      "  [10. 11. 12.]]]\n"
     ]
    }
   ],
   "source": [
    "d = b.reshape(2,2,3)\n",
    "print(d)"
   ]
  },
  {
   "cell_type": "markdown",
   "id": "70cd274c",
   "metadata": {},
   "source": [
    "# Part 2: Array Attributes\n"
   ]
  },
  {
   "cell_type": "markdown",
   "id": "5aa4366f",
   "metadata": {},
   "source": [
    "\n",
    "1) Print the shapes of arrays a, b , c and d"
   ]
  },
  {
   "cell_type": "code",
   "execution_count": 11,
   "id": "9867a5b1",
   "metadata": {},
   "outputs": [
    {
     "name": "stdout",
     "output_type": "stream",
     "text": [
      "The shape of array a is (9,).\n",
      "The shape of array b is (12,).\n",
      "The shape of array c is (3, 3).\n",
      "The shape of array d is (2, 2, 3).\n"
     ]
    }
   ],
   "source": [
    "\n",
    "print(\"The shape of array a is \" + str(a.shape) + \".\")\n",
    "print(\"The shape of array b is \" + str(b.shape) + \".\")\n",
    "print(\"The shape of array c is \" + str(c.shape) + \".\")\n",
    "print(\"The shape of array d is \" + str(d.shape) + \".\")"
   ]
  },
  {
   "cell_type": "markdown",
   "id": "114decee",
   "metadata": {},
   "source": [
    "2) Print the number of dimensions of arrays a, b, c and d"
   ]
  },
  {
   "cell_type": "code",
   "execution_count": 12,
   "id": "423cf042",
   "metadata": {},
   "outputs": [
    {
     "name": "stdout",
     "output_type": "stream",
     "text": [
      "Array a contains 9 elements, of type int32.\n",
      "Array b contains 12 elements, of type float64.\n",
      "Array c contains 9 elements, of type int32.\n",
      "Array d contains 12 elements, of type float64.\n"
     ]
    }
   ],
   "source": [
    "\n",
    "print(\"Array a contains \" + str(a.size) + \" elements, of type \" + str(a.dtype) + \".\")\n",
    "print(\"Array b contains \" + str(b.size) + \" elements, of type \" + str(b.dtype) + \".\")\n",
    "print(\"Array c contains \" + str(c.size) + \" elements, of type \" + str(c.dtype) + \".\")\n",
    "print(\"Array d contains \" + str(d.size) + \" elements, of type \" + str(d.dtype) + \".\")"
   ]
  },
  {
   "cell_type": "markdown",
   "id": "035d0def",
   "metadata": {},
   "source": [
    "3) Print the size and data types of arrays a, b, c and d"
   ]
  },
  {
   "cell_type": "markdown",
   "id": "b04a6417",
   "metadata": {},
   "source": [
    "# Part 3: Reshaping Arrays"
   ]
  },
  {
   "cell_type": "markdown",
   "id": "9ff443c1",
   "metadata": {},
   "source": [
    "1) Create and print array x by reshaping array a to shape (3,3)"
   ]
  },
  {
   "cell_type": "code",
   "execution_count": 13,
   "id": "a40e9a99",
   "metadata": {},
   "outputs": [
    {
     "name": "stdout",
     "output_type": "stream",
     "text": [
      "[[1 2 3]\n",
      " [4 5 6]\n",
      " [7 8 9]]\n"
     ]
    }
   ],
   "source": [
    "x = a.reshape(3,3)\n",
    "print(x)"
   ]
  },
  {
   "cell_type": "markdown",
   "id": "3dd657f7",
   "metadata": {},
   "source": [
    "\n",
    "2) Create and print array y by reshaping array a to shape (2,2,3)"
   ]
  },
  {
   "cell_type": "code",
   "execution_count": 14,
   "id": "2ab247ba",
   "metadata": {},
   "outputs": [
    {
     "name": "stdout",
     "output_type": "stream",
     "text": [
      "[[[ 1.  2.  3.]\n",
      "  [ 4.  5.  6.]]\n",
      "\n",
      " [[ 7.  8.  9.]\n",
      "  [10. 11. 12.]]]\n"
     ]
    }
   ],
   "source": [
    "\n",
    "y = b.reshape(2,2,3)\n",
    "print(y)\n"
   ]
  },
  {
   "cell_type": "markdown",
   "id": "096c0311",
   "metadata": {},
   "source": [
    "# Part 4: Basic Math and Functions"
   ]
  },
  {
   "cell_type": "markdown",
   "id": "2f7eacf3",
   "metadata": {},
   "source": [
    "1) Print the min, max, sum and mean of arrays a and x"
   ]
  },
  {
   "cell_type": "code",
   "execution_count": 15,
   "id": "2912ddf5",
   "metadata": {},
   "outputs": [
    {
     "name": "stdout",
     "output_type": "stream",
     "text": [
      "The max of array a is 9. The max of array x is 9.\n",
      "The min of array a is 1. The min of array x is 1.\n",
      "The sum of array a is 45. The sum of array x is 45.\n",
      "The mean of array a is 5.0. The min of array x is 5.0.\n"
     ]
    }
   ],
   "source": [
    "print(\"The max of array a is \" + str(a.max()) + \". The max of array x is \" + str(x.max()) + \".\")\n",
    "print(\"The min of array a is \" + str(a.min()) + \". The min of array x is \" + str(x.min()) + \".\")\n",
    "print(\"The sum of array a is \" + str(a.sum()) + \". The sum of array x is \" + str(x.sum()) + \".\")\n",
    "print(\"The mean of array a is \" + str(a.mean()) + \". The min of array x is \" + str(x.mean()) + \".\")"
   ]
  },
  {
   "cell_type": "markdown",
   "id": "5cc9b3d7",
   "metadata": {},
   "source": [
    "2) Add arrays c and x to produce array p, then print p"
   ]
  },
  {
   "cell_type": "code",
   "execution_count": 17,
   "id": "fb4a720c",
   "metadata": {},
   "outputs": [
    {
     "name": "stdout",
     "output_type": "stream",
     "text": [
      "[[ 2  4  6]\n",
      " [ 8 10 12]\n",
      " [14 16 18]]\n"
     ]
    }
   ],
   "source": [
    "p = c + x\n",
    "print(p)"
   ]
  },
  {
   "cell_type": "markdown",
   "id": "d8005c61",
   "metadata": {},
   "source": [
    "3) Multiply each element in array d by array y then subtract three from each element to create array q, then print array q"
   ]
  },
  {
   "cell_type": "code",
   "execution_count": 18,
   "id": "e1d20fca",
   "metadata": {},
   "outputs": [
    {
     "name": "stdout",
     "output_type": "stream",
     "text": [
      "[[[ -1.   2.   7.]\n",
      "  [ 14.  23.  34.]]\n",
      "\n",
      " [[ 47.  62.  79.]\n",
      "  [ 98. 119. 142.]]]\n"
     ]
    }
   ],
   "source": [
    "q = (d * y) - 2\n",
    "print(q)"
   ]
  },
  {
   "cell_type": "markdown",
   "id": "2b270ad8",
   "metadata": {},
   "source": [
    "4) Why were arrays a and bincompatible for mathematical operations?"
   ]
  },
  {
   "cell_type": "code",
   "execution_count": 19,
   "id": "8d727518",
   "metadata": {},
   "outputs": [
    {
     "name": "stdout",
     "output_type": "stream",
     "text": [
      "False\n"
     ]
    }
   ],
   "source": [
    "print(a.shape == b.shape)"
   ]
  },
  {
   "cell_type": "markdown",
   "id": "c1d925e8",
   "metadata": {},
   "source": [
    "# Part 5: Placeholder Arrays"
   ]
  },
  {
   "cell_type": "markdown",
   "id": "14fafead",
   "metadata": {},
   "source": [
    "\n",
    "1) Create array a of shape (3,5) containing only zeros"
   ]
  },
  {
   "cell_type": "code",
   "execution_count": 20,
   "id": "66bbd1f2",
   "metadata": {},
   "outputs": [
    {
     "name": "stdout",
     "output_type": "stream",
     "text": [
      "[[0. 0. 0. 0. 0.]\n",
      " [0. 0. 0. 0. 0.]\n",
      " [0. 0. 0. 0. 0.]]\n"
     ]
    }
   ],
   "source": [
    "a = np.zeros((3,5))\n",
    "print(a)"
   ]
  },
  {
   "cell_type": "markdown",
   "id": "544fe63b",
   "metadata": {},
   "source": [
    "\n",
    "2) Create array b of shape (2,2,2) containing only uninitialized values. Note that uninitialized values will appear random, and your results will likely be different from those shown in the example."
   ]
  },
  {
   "cell_type": "code",
   "execution_count": 21,
   "id": "31fd6850",
   "metadata": {},
   "outputs": [
    {
     "name": "stdout",
     "output_type": "stream",
     "text": [
      "[[[0.00e+000 0.00e+000]\n",
      "  [0.00e+000 0.00e+000]]\n",
      "\n",
      " [[0.00e+000 2.65e-321]\n",
      "  [0.00e+000 0.00e+000]]]\n"
     ]
    }
   ],
   "source": [
    "\n",
    "b = np.empty((2,2,2))\n",
    "print(b)"
   ]
  },
  {
   "cell_type": "markdown",
   "id": "7ab8e308",
   "metadata": {},
   "source": [
    "\n",
    "3) Create array c containing the even integers between 1 and 16 using the .arange method"
   ]
  },
  {
   "cell_type": "code",
   "execution_count": 22,
   "id": "bac14c9b",
   "metadata": {},
   "outputs": [
    {
     "name": "stdout",
     "output_type": "stream",
     "text": [
      "[ 2  4  6  8 10 12 14 16]\n"
     ]
    }
   ],
   "source": [
    "c = np.arange(2,17,2)\n",
    "print(c)"
   ]
  },
  {
   "cell_type": "markdown",
   "id": "31a29f5e",
   "metadata": {},
   "source": [
    "4) Create array d containing the odd integers between 1 and 16 using the .linspace method"
   ]
  },
  {
   "cell_type": "code",
   "execution_count": 23,
   "id": "64d82202",
   "metadata": {},
   "outputs": [
    {
     "name": "stdout",
     "output_type": "stream",
     "text": [
      "[ 1  3  5  7  9 11 13 15]\n"
     ]
    }
   ],
   "source": [
    "d = np.linspace(1, 15, 8, dtype=int)\n",
    "print(d)"
   ]
  },
  {
   "cell_type": "markdown",
   "id": "a5071721",
   "metadata": {},
   "source": [
    "5) Create a function sorting_hat() that takes in a list of celebrity names and a list of Hogwarts houses from Harry Potter and outputs a combinantion of random name and random house in the following form: 'Chris Hemsworth is going to Hufflepuff!' You may use the provided list of celebrities or make your own.\n",
    "\n",
    "names = ['Bobby Fisher', 'Beyonce', 'Arnold Schwarzenegger', 'Akira Kurosawa', 'Britney Spears', 'Alexander the Great', 'Chris Hemsworth', 'David Lynch', 'Madonna', 'Anthony Mackie']\n",
    "\n",
    "houses = ['Griffindor', 'Hufflepuff', 'Slytherin', 'Ravenclaw']"
   ]
  },
  {
   "cell_type": "code",
   "execution_count": 24,
   "id": "7839c131",
   "metadata": {},
   "outputs": [
    {
     "data": {
      "text/plain": [
       "'Alexander the Great is going to Griffindor!'"
      ]
     },
     "execution_count": 24,
     "metadata": {},
     "output_type": "execute_result"
    }
   ],
   "source": [
    "names = ['Bobby Fisher', 'Beyonce', 'Arnold Schwarzenegger', 'Akira Kurosawa', 'Britney Spears', 'Alexander the Great', 'Chris Hemsworth', 'David Lynch', 'Madonna', 'Anthony Mackie']\n",
    "houses = ['Griffindor', 'Hufflepuff', 'Slytherin', 'Ravenclaw']\n",
    "\n",
    "def sorting_hat(names, houses):\n",
    "    anames = np.array(names)\n",
    "    ahouses = np.array(houses)\n",
    "    \n",
    "    x = np.random.choice(anames)\n",
    "    y = np.random.choice(ahouses)\n",
    "    \n",
    "    return str(x) + \" is going to \" + str(y) + \"!\"\n",
    "\n",
    "sorting_hat(names, houses)"
   ]
  }
 ],
 "metadata": {
  "kernelspec": {
   "display_name": "Python 3",
   "language": "python",
   "name": "python3"
  },
  "language_info": {
   "codemirror_mode": {
    "name": "ipython",
    "version": 3
   },
   "file_extension": ".py",
   "mimetype": "text/x-python",
   "name": "python",
   "nbconvert_exporter": "python",
   "pygments_lexer": "ipython3",
   "version": "3.8.8"
  }
 },
 "nbformat": 4,
 "nbformat_minor": 5
}
